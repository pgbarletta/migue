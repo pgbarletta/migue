{
 "cells": [
  {
   "cell_type": "code",
   "execution_count": 1,
   "metadata": {},
   "outputs": [],
   "source": [
    "import argparse\n",
    "import sys\n",
    "from pathlib import Path\n",
    "import zipfile\n",
    "from functools import wraps\n",
    "from abc import ABCMeta, abstractclassmethod\n",
    "import shutil as sh\n",
    "import inspect\n",
    "from random import choice, sample\n",
    "import pickle\n",
    "from collections import deque\n",
    "from multiprocessing import Queue, SimpleQueue\n",
    "from queue import PriorityQueue\n",
    "from concurrent.futures import ProcessPoolExecutor\n",
    "import concurrent.futures as cf\n",
    "import re\n",
    "import glob\n",
    "import csv\n",
    "import pandas as pd\n",
    "import subprocess as sp\n",
    "import shutil as sh\n",
    "\n",
    "from Bio.PDB import PDBParser\n",
    "from Bio.PDB.PDBIO import PDBIO\n",
    "from Bio.SeqUtils import seq1, seq3\n",
    "\n",
    "# import biobb_md\n",
    "# from biobb_md.gromacs.gmxselect import gmxselect\n",
    "# from biobb_model.model.mutate import mutate\n",
    "# from biobb_md.gromacs.grompp import grompp\n",
    "# from biobb_md.gromacs.solvate import solvate, Solvate\n",
    "# from biobb_md.gromacs.pdb2gmx import pdb2gmx\n",
    "# from biobb_analysis.gromacs.gmx_trjconv_str import gmx_trjconv_str\n",
    "# from biobb_analysis.gromacs.gmx_trjconv_trj import GMXTrjConvTrj\n",
    "# from biobb_analysis.gromacs.gmx_image import GMXImage\n",
    "# from biobb_md.gromacs.grompp import grompp\n",
    "# from biobb_md.gromacs.make_ndx import MakeNdx\n",
    "\n",
    "data_dir = Path(\"/home/pbarletta/labo/22/migue/data/AB-Bind-Database-master\")\n",
    "pdbs_dir = Path(\"/home/pbarletta/labo/22/migue/run/pdbs\")\n",
    "mutpdbs_dir = Path(\"/home/pbarletta/labo/22/migue/run/mut_pdbs\")\n",
    "bin_dir = Path(\"/home/pbarletta/labo/22/locuaz/bin\")\n",
    "evo_bin = Path(bin_dir, \"evoef2/EvoEF2\")\n",
    "\n",
    "AA_LIST = (\"D\", \"E\", \"S\", \"T\", \"R\", \"N\", \"Q\", \"H\", \"K\", \"A\", \"G\", \"I\", \n",
    "    \"M\", \"L\", \"V\", \"P\", \"F\", \"W\", \"Y\", \"C\" )"
   ]
  },
  {
   "cell_type": "code",
   "execution_count": 2,
   "metadata": {},
   "outputs": [],
   "source": [
    "expdata_df = pd.read_csv(Path(data_dir, \"AB-Bind_experimental_data.csv\"), encoding='latin-1')\n",
    "pdb_list = tuple(sorted(set(expdata_df['#PDB'])))"
   ]
  },
  {
   "cell_type": "code",
   "execution_count": 3,
   "metadata": {},
   "outputs": [],
   "source": [
    "def has_proper_format(all_mut_str):\n",
    "\n",
    "    return all([ each_mut_str[0].isupper() and each_mut_str[1] == ':'\\\n",
    "        and each_mut_str[2] in AA_LIST and each_mut_str[-1] in AA_LIST\n",
    "        for each_mut_str in all_mut_str.split(',') ])"
   ]
  },
  {
   "cell_type": "code",
   "execution_count": 22,
   "metadata": {},
   "outputs": [],
   "source": [
    "def add_agua(pdb_in: Path, pdb_out: Path):\n",
    "    with open(pdb_in) as f:\n",
    "        aguas = []\n",
    "        for linea in f:\n",
    "            if linea[17:20] == \"HOH\":\n",
    "                aguas.append(linea)\n",
    "    with open(pdb_out, 'a') as f:\n",
    "        for agua in aguas:\n",
    "            f.write(agua)\n",
    "        f.write(\"END\")"
   ]
  },
  {
   "cell_type": "code",
   "execution_count": 24,
   "metadata": {},
   "outputs": [
    {
     "name": "stdout",
     "output_type": "stream",
     "text": [
      " -- 1AK4 -- \n",
      " -- 1BJ1 -- \n",
      " -- 1CZ8 -- \n",
      " -- 1DQJ -- \n",
      " -- 1DVF -- \n",
      " -- 1FFW -- \n",
      " -- 1JRH -- \n",
      " -- 1JTG -- \n",
      " -- 1KTZ -- \n",
      " -- 1MHP -- \n",
      " -- 1MLC -- \n",
      " -- 1N8Z -- \n",
      " -- 1T83 -- \n",
      " -- 1VFB -- \n",
      " -- 1YY9 -- \n",
      " -- 2JEL -- \n",
      " -- 2NY7 -- \n",
      " -- 2NYY -- \n",
      " -- 2NZ9 -- \n",
      " -- 3BDY -- \n",
      " -- 3BE1 -- \n",
      " -- 3BN9 -- \n",
      " -- 3HFM -- \n",
      " -- 3K2M -- \n",
      " -- 3NGB -- \n",
      " -- 3NPS -- \n",
      " -- 3WJJ -- \n",
      " -- HM_1KTZ -- \n",
      " -- HM_1YY9 -- \n",
      " -- HM_2NYY -- \n",
      " -- HM_2NZ9 -- \n",
      " -- HM_3BN9 -- \n"
     ]
    }
   ],
   "source": [
    "# j = pdb_list.index(\"1DVF\")\n",
    "# for pdb_id in pdb_list[j:j+1]:\n",
    "for pdb_id in pdb_list:\n",
    "    print(f\" -- {pdb_id} -- \")\n",
    "    if pdb_id == '1JRH':\n",
    "        continue\n",
    "    # List of mutants for this PDB\n",
    "    mutants = tuple(expdata_df[expdata_df[\"#PDB\"] == pdb_id].iterrows())\n",
    "    \n",
    "    # First, generete the text for the input text file for EvoEF2 BuildMutant tool\n",
    "    mut_string = \"\"\n",
    "    for fila in mutants:\n",
    "        mut_str = fila[1][\"Mutation\"]\n",
    "        mut_string += ','.join(\n",
    "            [f\"{muta[2]}{muta[0]}{muta[3:-1]}{muta[-1]}\" for muta in mut_str.split(',')])\n",
    "        mut_string += \";\\n\"\n",
    "    \n",
    "    # Now, write it out on a text file\n",
    "    input_mutlist_fn = pdbs_dir / \"mutlist.txt\"\n",
    "    with open(input_mutlist_fn, \"w\") as file:\n",
    "            file.write(mut_string)\n",
    "\n",
    "    # Run EvoEF2\n",
    "    comando = f\"{evo_bin} --command=BuildMutant --pdb={pdb_id}.pdb --mutant_file=mutlist.txt\"\n",
    "    salida = sp.run(\n",
    "        comando,\n",
    "        stdout=sp.PIPE,\n",
    "        stderr=sp.PIPE,\n",
    "        cwd=pdbs_dir,\n",
    "        shell=True,\n",
    "        text=True,\n",
    "    )\n",
    "    # Any errors?\n",
    "    if salida.stderr:\n",
    "        print(salida.stdout)\n",
    "        print(salida.stderr)\n",
    "    # Clean up the text file\n",
    "    input_mutlist_fn.unlink()\n",
    "    \n",
    "    # Add water to the output PDBs, if the original had any, \n",
    "    # and move them to their proper folder\n",
    "    for i, fila in enumerate(mutants, 1):\n",
    "        pdb_id = fila[1][\"#PDB\"]\n",
    "        pdb_in_path = Path(pdbs_dir, f\"{pdb_id}.pdb\")\n",
    "        pdb_out = pdb_in_path.name.split('.')[0] + \"-\" + '_'.join(\n",
    "            [ f\"{muta[0]}:{muta[2]}{muta[3:-1]}{muta[-1]}\" for muta in fila[1][\"Mutation\"].split(',') ])\n",
    "        \n",
    "        pdb_out_path = Path(mutpdbs_dir, f\"{pdb_out}.pdb\")\n",
    "        temp_out_pdb = pdbs_dir / f\"{pdb_id}_Model_{i:04d}.pdb\"\n",
    "        add_agua(pdb_in_path, temp_out_pdb)\n",
    "        sh.copy(temp_out_pdb, pdb_out_path)\n",
    "        \n",
    "        # cleanup\n",
    "        temp_out_pdb.unlink()"
   ]
  },
  {
   "cell_type": "markdown",
   "metadata": {},
   "source": [
    "#### Sólo 1JRH"
   ]
  },
  {
   "cell_type": "code",
   "execution_count": 25,
   "metadata": {},
   "outputs": [],
   "source": [
    "pdb_id = '1JRH'\n",
    "# List of mutants for this PDB\n",
    "mutants = tuple(expdata_df[expdata_df[\"#PDB\"] == pdb_id].iterrows())\n",
    "\n",
    "# First, generete the text for the input text file for EvoEF2 BuildMutant tool\n",
    "mut_string = \"\"\n",
    "for fila in mutants:\n",
    "    mut_str = fila[1][\"Mutation\"]\n",
    "    if not has_proper_format(mut_str):\n",
    "        continue\n",
    "    if mut_str == 'I:A103L,I:V104M,I:R106L,I:D107K':\n",
    "        continue\n",
    "    mut_string += ','.join(\n",
    "        [f\"{muta[2]}{muta[0]}{muta[3:-1]}{muta[-1]}\" for muta in mut_str.split(',')])\n",
    "    mut_string += \";\\n\"\n",
    "\n",
    "# Now, write it out on a text file\n",
    "input_mutlist_fn = pdbs_dir / \"mutlist.txt\"\n",
    "with open(input_mutlist_fn, \"w\") as file:\n",
    "        file.write(mut_string)\n",
    "\n",
    "# Run EvoEF2\n",
    "comando = f\"{evo_bin} --command=BuildMutant --pdb={pdb_id}.pdb --mutant_file=mutlist.txt\"\n",
    "salida = sp.run(\n",
    "    comando,\n",
    "    stdout=sp.PIPE,\n",
    "    stderr=sp.PIPE,\n",
    "    cwd=pdbs_dir,\n",
    "    shell=True,\n",
    "    text=True,\n",
    ")\n",
    "# Any errors?\n",
    "if salida.stderr:\n",
    "    print(salida.stdout)\n",
    "    print(salida.stderr)\n",
    "# Clean up the text file\n",
    "input_mutlist_fn.unlink()\n",
    "\n",
    "# Move the output PDBs to their proper folder\n",
    "i = 0\n",
    "for fila in mutants:\n",
    "    mut_str = fila[1][\"Mutation\"]\n",
    "    if not has_proper_format(mut_str):\n",
    "        continue\n",
    "    if mut_str == 'I:A103L,I:V104M,I:R106L,I:D107K':\n",
    "        continue\n",
    "    i += 1\n",
    "    pdb_id = fila[1][\"#PDB\"]\n",
    "    pdb_in_path = Path(pdbs_dir, f\"{pdb_id}.pdb\")\n",
    "    pdb_out = pdb_in_path.name.split('.')[0] + \"-\" + '_'.join(\n",
    "        [ f\"{muta[0]}:{muta[2]}{muta[3:-1]}{muta[-1]}\" for muta in fila[1][\"Mutation\"].split(',') ])\n",
    "    \n",
    "    pdb_out_path = Path(mutpdbs_dir, f\"{pdb_out}.pdb\")\n",
    "    temp_out_pdb = pdbs_dir / f\"{pdb_id}_Model_{i:04d}.pdb\"\n",
    "    add_agua(pdb_in_path, temp_out_pdb)\n",
    "    sh.copy(temp_out_pdb, pdb_out_path)\n",
    "    \n",
    "    # cleanup\n",
    "    temp_out_pdb.unlink()"
   ]
  },
  {
   "cell_type": "markdown",
   "metadata": {},
   "source": [
    "### checking that I actually got one PDB per mutant"
   ]
  },
  {
   "cell_type": "code",
   "execution_count": 26,
   "metadata": {},
   "outputs": [],
   "source": [
    "nmutants_orig = [sum(expdata_df[\"#PDB\"] == pdb_id) for pdb_id in pdb_list]"
   ]
  },
  {
   "cell_type": "code",
   "execution_count": 27,
   "metadata": {},
   "outputs": [],
   "source": [
    "nmutants_pdbs = [17, 19, 19, 34, 38, 9, 9, 31, 22, 93, 27, 36, 244, 55, 8, \n",
    "    43, 31, 28, 19, 34, 34, 35, 48, 7, 15, 27, 25, 22, 16, 25, 16, 8]"
   ]
  },
  {
   "cell_type": "code",
   "execution_count": 28,
   "metadata": {},
   "outputs": [
    {
     "name": "stdout",
     "output_type": "stream",
     "text": [
      "pdb='1DVF':  i=39 -- j=38\n",
      "pdb='1JRH':  i=11 -- j=9\n",
      "pdb='1N8Z':  i=38 -- j=36\n",
      "pdb='1T83':  i=246 -- j=244\n"
     ]
    }
   ],
   "source": [
    "for pdb, i, j in zip(pdb_list, nmutants_orig, nmutants_pdbs):\n",
    "    if j < i:\n",
    "        print(f\"{pdb=}:  {i=} -- {j=}\")"
   ]
  },
  {
   "cell_type": "code",
   "execution_count": 14,
   "metadata": {},
   "outputs": [],
   "source": []
  },
  {
   "cell_type": "code",
   "execution_count": 17,
   "metadata": {},
   "outputs": [],
   "source": [
    "cosa = Path(\"/home/pbarletta/labo/22/migue/run/mut_pdbs/a.pdb\")"
   ]
  },
  {
   "cell_type": "code",
   "execution_count": 20,
   "metadata": {},
   "outputs": [],
   "source": []
  },
  {
   "cell_type": "markdown",
   "metadata": {},
   "source": [
    "- 1JRH: 2 of its mutants were discarded. 1st one because it was on a missing residue, 2nd one because it had a weird mutation specification (delta something)\n",
    "- 1DVF, 1N8Z, 1T83: have repeated mutants, so only the 2nd one was kept."
   ]
  },
  {
   "cell_type": "markdown",
   "metadata": {},
   "source": [
    "---"
   ]
  }
 ],
 "metadata": {
  "kernelspec": {
   "display_name": "Python 3.10.2",
   "language": "python",
   "name": "python3"
  },
  "language_info": {
   "codemirror_mode": {
    "name": "ipython",
    "version": 3
   },
   "file_extension": ".py",
   "mimetype": "text/x-python",
   "name": "python",
   "nbconvert_exporter": "python",
   "pygments_lexer": "ipython3",
   "version": "3.10.2"
  },
  "orig_nbformat": 4,
  "vscode": {
   "interpreter": {
    "hash": "70c485f5dd2a3fa7b2691a7c2f24a679b8383fa6708e6dbf719b8ad856723649"
   }
  }
 },
 "nbformat": 4,
 "nbformat_minor": 2
}
