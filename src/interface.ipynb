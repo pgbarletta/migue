{
 "cells": [
  {
   "cell_type": "code",
   "execution_count": 1,
   "metadata": {},
   "outputs": [
    {
     "name": "stderr",
     "output_type": "stream",
     "text": [
      "/home/pbarletta/anaconda3/envs/mdtraj/lib/python3.10/site-packages/tqdm/auto.py:22: TqdmWarning: IProgress not found. Please update jupyter and ipywidgets. See https://ipywidgets.readthedocs.io/en/stable/user_install.html\n",
      "  from .autonotebook import tqdm as notebook_tqdm\n"
     ]
    }
   ],
   "source": [
    "import sys\n",
    "from pathlib import Path\n",
    "import pickle\n",
    "import pandas as pd\n",
    "import mdtraj as md\n",
    "import networkx as nx\n",
    "import logging\n",
    "from collections import namedtuple\n",
    "from concurrent.futures import ProcessPoolExecutor\n",
    "import concurrent.futures as cf\n",
    "import glob\n",
    "import csv\n",
    "from collections import defaultdict\n",
    "import pandas as pd\n",
    "import subprocess as sp\n",
    "import shutil as sh\n",
    "import MDAnalysis as mda\n",
    "from itertools import combinations_with_replacement\n",
    "from MDAnalysis.core.groups import AtomGroup\n",
    "from MDAnalysis.analysis import distances\n",
    "\n",
    "from Bio.PDB import PDBParser\n",
    "from Bio.PDB.PDBIO import PDBIO\n",
    "from Bio.SeqUtils import seq1, seq3\n",
    "sys.path.insert(0, \"/home/pbarletta/freesasa-python/build/lib.linux-x86_64-3.10\")\n",
    "import freesasa\n",
    "\n",
    "Chains = namedtuple('Chains', ['antibody', 'antigen'])\n",
    "InterfaceAtoms = namedtuple('InterfaceAtoms', ['antibody', 'antigen'])\n",
    "Atom = namedtuple('Atom', ['index', 'serial', 'element', 'is_sidechain', 'resSeq',\n",
    "                  'resSeq_str', 'resname', 'chain_ID', 'chain_type', 'CDR'])\n",
    "\n",
    "from abag_interactions_hydrophobic import *\n",
    "from interactions_hydrophobic import *\n",
    "           \n",
    "data_dir = Path(\"/home/pbarletta/labo/22/migue/data\")\n",
    "expdata_dir = Path(\"/home/pbarletta/labo/22/migue/data/AB-Bind-Database-master\")\n",
    "rtdo_dir = Path(\"/home/pbarletta/labo/22/migue/rtdos\")\n",
    "hydro_dir = Path(\"/home/pbarletta/labo/22/migue/rtdos/hydro\")\n",
    "aux_dir = Path(\"/home/pbarletta/labo/22/migue/aux\")\n",
    "pdbs_dir = Path(\"/home/pbarletta/labo/22/migue/run/pdbs\")\n",
    "mutpdbs_dir = Path(\"/home/pbarletta/labo/22/migue/run/mut_pdbs\")\n",
    "bin_dir = Path(\"/home/pbarletta/labo/22/locuaz/bin\")\n",
    "evo_bin = Path(bin_dir, \"evoef2/EvoEF2\")\n",
    "\n",
    "AA_LIST = [\"ALA\", \"ARG\", \"ASN\", \"ASP\", \"CYS\", \"GLU\", \"GLN\", \"GLY\", \"HIS\",\n",
    "           \"ILE\", \"LEU\", \"LYS\", \"MET\", \"PHE\", \"PRO\", \"SER\", \"THR\", \"TRP\", \"TYR\", \"VAL\"]\n",
    "AA_LIST = (\"D\", \"E\", \"S\", \"T\", \"R\", \"N\", \"Q\", \"H\", \"K\", \"A\", \"G\", \"I\", \n",
    "    \"M\", \"L\", \"V\", \"P\", \"F\", \"W\", \"Y\", \"C\" )"
   ]
  },
  {
   "cell_type": "code",
   "execution_count": 2,
   "metadata": {},
   "outputs": [],
   "source": [
    "expdata_df = pd.read_csv(Path(expdata_dir, \"AB-Bind_experimental_data.csv\"), encoding='latin-1')\n",
    "pdb_list = tuple(sorted(set(expdata_df['#PDB'])))\n",
    "\n",
    "abag_chains = {}\n",
    "for partners, pdb_id in zip(expdata_df[\"Partners(A_B)\"], expdata_df[\"#PDB\"]):\n",
    "    target, binder = partners.split(\"_\")\n",
    "    abag_chains[pdb_id] = Chains(antibody=binder, antigen=target) \n",
    "\n",
    "mut_list = []\n",
    "with open(Path(mutpdbs_dir, \"mut_list.txt\"), \"r\") as f:\n",
    "    for mute in f:\n",
    "        mut_list.append(mute.strip())\n",
    "\n",
    "pdbs_mut = defaultdict(list)\n",
    "for mut in mut_list:\n",
    "    this_pdb = mut.split('-')[0]\n",
    "    pdbs_mut[this_pdb ].append(mut)"
   ]
  },
  {
   "cell_type": "code",
   "execution_count": 19,
   "metadata": {},
   "outputs": [
    {
     "data": {
      "text/plain": [
       "'3NPS'"
      ]
     },
     "execution_count": 19,
     "metadata": {},
     "output_type": "execute_result"
    }
   ],
   "source": [
    "test_id = 25\n",
    "test_pdb = tuple(pdbs_mut.keys())[test_id]\n",
    "prueba = defaultdict(list)\n",
    "prueba[test_pdb] = pdbs_mut[test_pdb]\n",
    "test_pdb"
   ]
  },
  {
   "cell_type": "code",
   "execution_count": 14,
   "metadata": {},
   "outputs": [
    {
     "name": "stdout",
     "output_type": "stream",
     "text": [
      "pdb_id='1AK4'\n",
      "pdb_id='1BJ1'\n",
      "pdb_id='1CZ8'\n",
      "pdb_id='1DQJ'\n",
      "pdb_id='1DVF'\n",
      "pdb_id='1FFW'\n",
      "pdb_id='1JRH'\n",
      "pdb_id='1JTG'\n",
      "pdb_id='1KTZ'\n",
      "pdb_id='1MHP'\n",
      "pdb_id='1MLC'\n",
      "pdb_id='1N8Z'\n",
      "pdb_id='1T83'\n",
      "pdb_id='1VFB'\n",
      "pdb_id='1YY9'\n",
      "pdb_id='2JEL'\n",
      "pdb_id='2NY7'\n",
      "pdb_id='2NYY'\n",
      "pdb_id='2NZ9'\n",
      "pdb_id='3BDY'\n",
      "pdb_id='3BE1'\n",
      "pdb_id='3BN9'\n",
      "pdb_id='3HFM'\n",
      "pdb_id='3K2M'\n",
      "pdb_id='3NGB'\n",
      "pdb_id='3NPS'\n",
      "pdb_id='3WJJ'\n",
      "pdb_id='HM_1KTZ'\n",
      "pdb_id='HM_1YY9'\n",
      "pdb_id='HM_2NYY'\n",
      "pdb_id='HM_2NZ9'\n",
      "pdb_id='HM_3BN9'\n"
     ]
    }
   ],
   "source": [
    "pdbs_interface_mut = {}\n",
    "for pdb_id, mutas in pdbs_mut.items():\n",
    "# for pdb_id, mutas in prueba.items():\n",
    "    print(f\"{pdb_id=}\", flush=True)\n",
    "    pdb_filename = Path(pdbs_dir, pdb_id + \".pdb\")\n",
    "    pdbs_interface_mut[pdb_id] = []\n",
    "    ag_chains = abag_chains[pdb_id].antigen\n",
    "    ab_chains = abag_chains[pdb_id].antibody\n",
    "\n",
    "    # SASA of the antigen and the antibody\n",
    "    grupos = '+'.join([ grupo for grupo in  (ag_chains, ab_chains) ])\n",
    "\n",
    "    structs = freesasa.getStructures(str(pdb_filename), {\"separate-chains\": False}, \n",
    "        selection=grupos)\n",
    "    wh_sasa = freesasa.calc(structs[0])\n",
    "    ag_sasa = freesasa.calc(structs[1])\n",
    "    ab_sasa = freesasa.calc(structs[2])\n",
    "    sasa_by_chainID = {}\n",
    "    for chainID in ag_chains:\n",
    "        sasa_by_chainID[chainID] = (structs[1], ag_sasa)\n",
    "    for chainID in ab_chains:\n",
    "        sasa_by_chainID[chainID] = (structs[2], ab_sasa)\n",
    "\n",
    "    for muta in mutas:\n",
    "        # print(f\"{muta=}\", flush=True)\n",
    "        mut_strings = muta.split('-')[1].split('_')\n",
    "        for mut_string in mut_strings:\n",
    "            # Sometimes they come with a `_chainID` when the structure has multiple mutations\n",
    "            chainID, mut_residue = mut_string.split(':')\n",
    "            resSeq_str = mut_residue[1:-1]\n",
    "\n",
    "            cpx_rtdo = freesasa.selectArea(\n",
    "                    [f\"s1, resi {resSeq_str} and chain {chainID}\"], structs[0], wh_sasa)\n",
    "            struct, sasa = sasa_by_chainID[chainID]\n",
    "            mono_rtdo = freesasa.selectArea(\n",
    "                    [f\"s1, resi {resSeq_str} and chain {chainID}\"], struct, sasa)\n",
    "\n",
    "            complex_mut_sasa = int(cpx_rtdo['s1'])\n",
    "            monomer_mut_sasa = int(mono_rtdo['s1'] * .95)\n",
    "            if complex_mut_sasa < monomer_mut_sasa:\n",
    "                pdbs_interface_mut[pdb_id].append(muta)\n",
    "                break"
   ]
  },
  {
   "cell_type": "raw",
   "metadata": {},
   "source": [
    "with open(Path(rtdo_dir, \"pdbs_interface_mut.pkl\"), 'wb') as file:\n",
    "     pickle.dump(pdbs_interface_mut, file)"
   ]
  },
  {
   "cell_type": "markdown",
   "metadata": {},
   "source": [
    "-----"
   ]
  },
  {
   "cell_type": "code",
   "execution_count": 15,
   "metadata": {},
   "outputs": [],
   "source": [
    "with open(Path.joinpath(hydro_dir, \"pdb_hydrophobic.pkl\"), \"rb\") as file:\n",
    "    pdb_hydrophobic = pickle.load(file)\n",
    "with open(Path.joinpath(hydro_dir, \"mut_hydrophobic.pkl\"), \"rb\") as file:\n",
    "    mut_hydrophobic = pickle.load(file)"
   ]
  },
  {
   "cell_type": "code",
   "execution_count": 16,
   "metadata": {},
   "outputs": [],
   "source": [
    "pdbs_cluster_mut = {}\n",
    "for pdb_id, mutas in pdbs_mut.items():\n",
    "    # pdb_Cs = sum(len(cluster) for cluster in pdb_hydrophobic[pdb_id])\n",
    "    pdbs_cluster_mut[pdb_id] = []\n",
    "    hydro_residues = { (atom.resSeq_str, atom.chain_ID) \n",
    "        for cluster in pdb_hydrophobic[pdb_id] for atom in cluster }\n",
    "    for muta in mutas:\n",
    "        # print(f\"{muta=}\", flush=True)\n",
    "        mut_strings = muta.split('-')[1].split('_')\n",
    "        for mut_string in mut_strings:\n",
    "            chainID, mut_residue = mut_string.split(':')\n",
    "            resSeq_str = mut_residue[1:-1]\n",
    "\n",
    "            if (resSeq_str, chainID) in hydro_residues:\n",
    "                pdbs_cluster_mut[pdb_id].append(muta)\n",
    "                break\n",
    "\n",
    "        # mut_Cs = sum([ len(cluster) for cluster in mut_hydrophobic[mut] ])"
   ]
  },
  {
   "cell_type": "raw",
   "metadata": {},
   "source": [
    "with open(Path(rtdo_dir, \"pdbs_cluster_mut.pkl\"), 'wb') as file:\n",
    "     pickle.dump(pdbs_cluster_mut, file)"
   ]
  },
  {
   "cell_type": "code",
   "execution_count": 108,
   "metadata": {},
   "outputs": [
    {
     "name": "stdout",
     "output_type": "stream",
     "text": [
      "orig=17 -- clus=12\n",
      "orig=19 -- clus=12\n",
      "orig=19 -- clus=13\n",
      "orig=34 -- clus=29\n",
      "orig=38 -- clus=17\n",
      "orig=9 -- clus=2\n",
      "orig=9 -- clus=1\n",
      "orig=31 -- clus=16\n",
      "orig=22 -- clus=11\n",
      "orig=93 -- clus=34\n",
      "orig=27 -- clus=17\n",
      "orig=36 -- clus=14\n",
      "orig=244 -- clus=93\n",
      "orig=55 -- clus=36\n",
      "orig=8 -- clus=0\n",
      "orig=43 -- clus=13\n",
      "orig=31 -- clus=10\n",
      "orig=28 -- clus=13\n",
      "orig=19 -- clus=11\n",
      "orig=34 -- clus=13\n",
      "orig=34 -- clus=11\n",
      "orig=35 -- clus=9\n",
      "orig=48 -- clus=35\n",
      "orig=7 -- clus=6\n",
      "orig=15 -- clus=10\n",
      "orig=27 -- clus=3\n",
      "orig=25 -- clus=12\n",
      "orig=22 -- clus=11\n",
      "orig=16 -- clus=1\n",
      "orig=25 -- clus=13\n",
      "orig=16 -- clus=7\n",
      "orig=8 -- clus=3\n"
     ]
    }
   ],
   "source": [
    "# Averga cuanta diferencia hay entre le original y sólo aquellos\n",
    "# q tienen mutaciones en un cluster\n",
    "for pdb_id, mutas in pdbs_mut.items():\n",
    "    clus = len(pdbs_cluster_mut[pdb_id])\n",
    "    orig = len(pdbs_mut[pdb_id])\n",
    "\n",
    "    print(f\"{orig=} -- {clus=}\")"
   ]
  },
  {
   "cell_type": "code",
   "execution_count": 10,
   "metadata": {},
   "outputs": [
    {
     "data": {
      "text/plain": [
       "('HL', 'VW')"
      ]
     },
     "execution_count": 10,
     "metadata": {},
     "output_type": "execute_result"
    }
   ],
   "source": [
    "ag_chains, ab_chains"
   ]
  },
  {
   "cell_type": "code",
   "execution_count": 11,
   "metadata": {},
   "outputs": [
    {
     "data": {
      "text/plain": [
       "[<freesasa.Structure at 0x7f5f1c737750>,\n",
       " <freesasa.Structure at 0x7f5f1c736bb0>,\n",
       " <freesasa.Structure at 0x7f5f1c736730>]"
      ]
     },
     "execution_count": 11,
     "metadata": {},
     "output_type": "execute_result"
    }
   ],
   "source": [
    "structs"
   ]
  }
 ],
 "metadata": {
  "kernelspec": {
   "display_name": "Python 3.10.2",
   "language": "python",
   "name": "python3"
  },
  "language_info": {
   "codemirror_mode": {
    "name": "ipython",
    "version": 3
   },
   "file_extension": ".py",
   "mimetype": "text/x-python",
   "name": "python",
   "nbconvert_exporter": "python",
   "pygments_lexer": "ipython3",
   "version": "3.10.2"
  },
  "orig_nbformat": 4,
  "vscode": {
   "interpreter": {
    "hash": "70c485f5dd2a3fa7b2691a7c2f24a679b8383fa6708e6dbf719b8ad856723649"
   }
  }
 },
 "nbformat": 4,
 "nbformat_minor": 2
}
