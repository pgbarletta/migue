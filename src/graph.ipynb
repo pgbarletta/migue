{
 "cells": [
  {
   "cell_type": "code",
   "execution_count": 1,
   "metadata": {},
   "outputs": [
    {
     "name": "stderr",
     "output_type": "stream",
     "text": [
      "/home/pbarletta/anaconda3/envs/mdtraj/lib/python3.10/site-packages/tqdm/auto.py:22: TqdmWarning: IProgress not found. Please update jupyter and ipywidgets. See https://ipywidgets.readthedocs.io/en/stable/user_install.html\n",
      "  from .autonotebook import tqdm as notebook_tqdm\n"
     ]
    }
   ],
   "source": [
    "import math\n",
    "import sys\n",
    "from pathlib import Path\n",
    "import itertools\n",
    "import kaleido\n",
    "import pickle\n",
    "import pandas as pd\n",
    "import plotly.graph_objects as go\n",
    "import plotly.express as px\n",
    "import plotly.express as px\n",
    "import plotly.io as pio\n",
    "from matplotlib import pyplot as plt\n",
    "from matplotlib_venn import venn3, venn3_circles\n",
    "from matplotlib_venn import venn2, venn2_circles\n",
    "from venn import venn\n",
    "from venn import generate_petal_labels, draw_venn, generate_colors\n",
    "px.defaults.template = 'ggplot2'\n",
    "px.defaults.template = 'simple_white'\n",
    "pio.templates.default = 'simple_white'\n",
    "cdr_colors = [\"#74D2F5\", \"#5495D6\", \"#3763F5\", \"#CF81EB\", \"#E564F5\", \"#A04AD6\",\n",
    "    'Aqua', 'AquaMarine']\n",
    "\n",
    "from collections import namedtuple, defaultdict, Counter\n",
    "\n",
    "from abag_interactions_hydrophobic import *\n",
    "from interactions_hydrophobic import *\n",
    "           \n",
    "data_dir = Path(\"/home/pbarletta/labo/22/migue/data\")\n",
    "expdata_dir = Path(\"/home/pbarletta/labo/22/migue/data/AB-Bind-Database-master\")\n",
    "hydro_dir = Path(\"/home/pbarletta/labo/22/migue/rtdos/hydro\")\n",
    "aux_dir = Path(\"/home/pbarletta/labo/22/migue/aux\")\n",
    "pdbs_dir = Path(\"/home/pbarletta/labo/22/migue/run/pdbs\")\n",
    "mutpdbs_dir = Path(\"/home/pbarletta/labo/22/migue/run/mut_pdbs\")\n",
    "bin_dir = Path(\"/home/pbarletta/labo/22/locuaz/bin\")\n",
    "evo_bin = Path(bin_dir, \"evoef2/EvoEF2\")\n",
    "\n",
    "AA_LIST = [\"ALA\", \"ARG\", \"ASN\", \"ASP\", \"CYS\", \"GLU\", \"GLN\", \"GLY\", \"HIS\",\n",
    "           \"ILE\", \"LEU\", \"LYS\", \"MET\", \"PHE\", \"PRO\", \"SER\", \"THR\", \"TRP\", \"TYR\", \"VAL\"]\n",
    "AA_LIST = (\"D\", \"E\", \"S\", \"T\", \"R\", \"N\", \"Q\", \"H\", \"K\", \"A\", \"G\", \"I\", \n",
    "    \"M\", \"L\", \"V\", \"P\", \"F\", \"W\", \"Y\", \"C\" )"
   ]
  },
  {
   "cell_type": "markdown",
   "metadata": {},
   "source": [
    "------"
   ]
  },
  {
   "cell_type": "markdown",
   "metadata": {},
   "source": [
    "## Hydrophobic"
   ]
  },
  {
   "cell_type": "code",
   "execution_count": 14,
   "metadata": {},
   "outputs": [],
   "source": [
    "expdata_df = pd.read_csv(Path(expdata_dir, \"AB-Bind_experimental_data.csv\"), encoding='latin-1')\n",
    "pdb_list = tuple(sorted(set(expdata_df['#PDB'])))\n",
    "\n",
    "abag_chains = {}\n",
    "for partners, pdb_id in zip(expdata_df[\"Partners(A_B)\"], expdata_df[\"#PDB\"]):\n",
    "    target, binder = partners.split(\"_\")\n",
    "    abag_chains[pdb_id] = Chains(antibody=binder, antigen=target) \n",
    "\n",
    "mut_list = []\n",
    "with open(Path(mutpdbs_dir, \"mut_list.txt\"), \"r\") as f:\n",
    "    for mute in f:\n",
    "        mut_list.append(mute.strip())\n",
    "\n",
    "pdbs_mut = defaultdict(list)\n",
    "for mut in mut_list:\n",
    "    this_pdb = mut.split('-')[0]\n",
    "    pdbs_mut[this_pdb ].append(mut)\n",
    "\n",
    "with open(Path.joinpath(hydro_dir, \"pdb_hydrophobic.pkl\"), \"rb\") as file:\n",
    "        pdb_hydrophobic = pickle.load(file)\n",
    "with open(Path.joinpath(hydro_dir, \"mut_hydrophobic.pkl\"), \"rb\") as file:\n",
    "        mut_hydrophobic = pickle.load(file)"
   ]
  },
  {
   "cell_type": "code",
   "execution_count": 19,
   "metadata": {},
   "outputs": [],
   "source": [
    "for pdb, mut in pdbs_mut.items():\n",
    "    pdb_carbons = sum(len(cluster) for cluster in pdb_hydrophobic[pdb])\n",
    "\n",
    "    mut_carbons = []\n",
    "    for mut in pdbs_mut[pdb]:\n",
    "        mut_carbons.append(sum([ len(cluster) for cluster in mut_hydrophobic[mut] ]))\n",
    "    mean_mut_carbons = np.mean(mut_carbons)"
   ]
  },
  {
   "cell_type": "code",
   "execution_count": null,
   "metadata": {},
   "outputs": [],
   "source": []
  },
  {
   "cell_type": "code",
   "execution_count": null,
   "metadata": {},
   "outputs": [],
   "source": []
  },
  {
   "cell_type": "code",
   "execution_count": null,
   "metadata": {},
   "outputs": [],
   "source": []
  },
  {
   "cell_type": "raw",
   "metadata": {},
   "source": [
    "chain_type_dict = {'H': 0, 'K': 0, 'L': 0}\n",
    "cdr_dict = {'H1': 0, 'H2': 0, 'H3': 0, 'L1': 0, 'L2': 0, 'L3': 0, \n",
    "'K1': 0, 'K2': 0, 'K3': 0, 'H0': 0, 'K0': 0, 'L0': 0}\n",
    "cdr_dict_big_cluster = {'H1': 0, 'H2': 0, 'H3': 0, 'L1': 0, 'L2': 0, 'L3': 0, \n",
    "'K1': 0, 'K2': 0, 'K3': 0, 'H0': 0, 'K0': 0, 'L0': 0}\n",
    "cdr_dict_big_cluster_aa_comp_atm = dict(zip(AA_LIST, itertools.repeat(0, 20)))\n",
    "cdr_dict_big_cluster_aa_comp_res = dict(zip(AA_LIST, itertools.repeat(0, 20)))\n",
    "size_largest_cluster_res = []\n",
    "size_largest_cluster_atm = []\n",
    "clusters_count = []\n",
    "cdr_count_largest_cluster = []\n",
    "\n",
    "for pdb_idcode in pdb_list:\n",
    "    nbr_of_clusters = 0\n",
    "    flag = True\n",
    "    list_chain_type_cdr = []\n",
    "\n",
    "    for cluster in hydrophobic[pdb_idcode]:\n",
    "        # Don't count clusters of less than 4 carbon atoms.\n",
    "        nbr_of_clusters += 1 if len(cluster) > 4 else 0\n",
    "        for carbon in cluster:\n",
    "            if carbon.chain_type != '.':\n",
    "                chain_type_dict[carbon.chain_type] += 1\n",
    "                \n",
    "                chain_type_cdr = carbon.chain_type + str(carbon.CDR)\n",
    "                cdr_dict[chain_type_cdr] += 1\n",
    "                list_chain_type_cdr.append(chain_type_cdr)\n",
    "        if flag:\n",
    "            if nbr_of_clusters == 0:\n",
    "                continue\n",
    "            # Clusters are sorted by size, so the 1st one is the largest.\n",
    "            for cdr, count in Counter(list_chain_type_cdr).items():\n",
    "                cdr_dict_big_cluster[cdr] += count\n",
    "            # Count aminoacid types, at an atomic level:\n",
    "            for carbon in cluster:\n",
    "                cdr_dict_big_cluster_aa_comp_atm[carbon.resname] += 1\n",
    "            # Count aminoacid types, at residue level:\n",
    "            unique_resi_list = set([\n",
    "                 carbon.resname+carbon.chain_ID+carbon.resSeq_str for carbon in cluster])\n",
    "            for residuo in unique_resi_list:\n",
    "                resname = residuo[0:3]\n",
    "                cdr_dict_big_cluster_aa_comp_res[resname] += 1\n",
    "            \n",
    "            size_largest_cluster_res.append(len(unique_resi_list))\n",
    "            size_largest_cluster_atm.append(len(cluster))\n",
    "\n",
    "            # Count the number of CDRs in the largest cluster\n",
    "            cdrs_in_cluster = set([carbon.chain_ID + str(carbon.CDR)\n",
    "                    for carbon in cluster if carbon.CDR not in (-1, 0)])\n",
    "            # There's, like, 8 PDBs that are only interacting through framework.\n",
    "            cdr_count = len(cdrs_in_cluster) if len(cdrs_in_cluster) > 0 else 1\n",
    "            cdr_count_largest_cluster.append(cdr_count)\n",
    "            flag = False\n",
    "    if nbr_of_clusters > 0:\n",
    "        clusters_count.append(nbr_of_clusters)"
   ]
  },
  {
   "cell_type": "markdown",
   "metadata": {},
   "source": [
    "### origin_of_carbons_in_hydrophobic_interactions"
   ]
  },
  {
   "cell_type": "raw",
   "metadata": {},
   "source": [
    "fig_si = go.Figure(data = go.Pie(labels = ['H1', 'H2', 'H3', 'L1', 'L2', 'L3'], \n",
    "    values = [cdr_dict['H1'], cdr_dict['H2'], cdr_dict['H3'],\n",
    "    cdr_dict['L1']+cdr_dict['K1'], cdr_dict['L2']+cdr_dict['K2'],\n",
    "    cdr_dict['L3']+cdr_dict['K3']],\n",
    "    hole=0.6, pull=0.02, sort=False) )\n",
    "\n",
    "fig_si.update_traces(marker={'colors': cdr_colors, \n",
    "    'line': {'color': 'black', 'width': 0.2}})\n",
    "\n",
    "fig_si.update_layout(legend = {'x': .4, 'y': .5, 'orientation': 'v'})\n",
    "\n",
    "fig_si.update_layout(font_size=19, width=500, height=500)"
   ]
  },
  {
   "cell_type": "raw",
   "metadata": {},
   "source": [
    "fig_si.write_image(Path.joinpath(casa_dir, \"more_plots\", \"SI_origin_of_carbons_in_hydrophobic_interactions.jpg\"))"
   ]
  },
  {
   "cell_type": "raw",
   "metadata": {},
   "source": [
    "fig_si = px.histogram(pd.DataFrame({'count':clusters_count}),\n",
    "    histnorm = 'probability', x='count', labels={'count': \"Number of clusters\"})\n",
    "fig_si.update_xaxes(tick0 = 1, dtick=1)\n",
    "\n",
    "fig_si.update_yaxes(title = \"Relative frequency\")\n",
    "fig_si.update_traces(marker = {'color': 'BurlyWood'})\n",
    "fig_si.update_layout(font_size=20, width=500, height=500)"
   ]
  },
  {
   "cell_type": "raw",
   "metadata": {},
   "source": [
    "tot = sum(cdr_dict_big_cluster_aa_comp_atm.values())\n",
    "cdr_dict_big_cluster_aa_comp_atm_ratio = {}\n",
    "for aa, cnt in cdr_dict_big_cluster_aa_comp_atm.items():\n",
    "    cdr_dict_big_cluster_aa_comp_atm_ratio[aa] = cnt/tot"
   ]
  },
  {
   "cell_type": "raw",
   "metadata": {},
   "source": [
    "df_aa_comp = pd.DataFrame({'AA': cdr_dict_big_cluster_aa_comp_atm_ratio.keys(),\n",
    "    'Count': cdr_dict_big_cluster_aa_comp_atm_ratio.values()})\n",
    "    \n",
    "fig_si = px.histogram(df_aa_comp, x='AA', y='Count',\n",
    "    height=400)\n",
    "fig_si.update_xaxes(title = \"Amino Acid\")\n",
    "fig_si.update_yaxes(title = \"Count\", range = [0, .3])\n",
    "fig_si.update_layout(\n",
    "    yaxis_title_text='Relative frequency')\n",
    "fig_si.update_traces(marker = {'color': 'BurlyWood'})\n",
    "fig_si.update_layout(font_size=20, width=800, height=500)\n",
    "fig_si.show()"
   ]
  },
  {
   "cell_type": "raw",
   "metadata": {},
   "source": [
    "fig_si = px.histogram(pd.DataFrame({'count':cdr_count_largest_cluster}),\n",
    "    histnorm = 'probability', x='count', labels={'count': \"Number of CDRs in largest cluster\"})\n",
    "fig_si.update_xaxes(tick0 = 1, dtick=1)\n",
    "fig_si.update_yaxes(title = \"Relative frequency\")\n",
    "fig_si.update_traces(marker = {'color': 'BurlyWood'})\n",
    "fig_si.update_layout(font_size=20, width=800, height=500)"
   ]
  },
  {
   "cell_type": "raw",
   "metadata": {},
   "source": [
    "tot = sum(cdr_dict_big_cluster_aa_comp_res.values())\n",
    "cdr_dict_big_cluster_aa_comp_res_ratio = {}\n",
    "for aa, cnt in cdr_dict_big_cluster_aa_comp_res.items():\n",
    "    cdr_dict_big_cluster_aa_comp_res_ratio[aa] = cnt/tot"
   ]
  },
  {
   "cell_type": "raw",
   "metadata": {},
   "source": [
    "df_aa_comp = pd.DataFrame({'AA': cdr_dict_big_cluster_aa_comp_res_ratio.keys(),\n",
    "    'Count': cdr_dict_big_cluster_aa_comp_res_ratio.values()})\n",
    "    \n",
    "fig_6e = px.histogram(df_aa_comp, x='AA', y='Count', \n",
    "    # color='color', barmode='group',\n",
    "    height=400)\n",
    "fig_6e.update_xaxes(title = \"Amino Acid\")\n",
    "fig_6e.update_yaxes(title = \"Count\")\n",
    "fig_6e.update_layout(yaxis_title_text='Relative frequency')\n",
    "fig_6e.update_traces(marker = {'color': 'BurlyWood'})\n",
    "fig_6e.update_layout(font_size=20, width=800, height=500)"
   ]
  },
  {
   "cell_type": "markdown",
   "metadata": {},
   "source": [
    "---"
   ]
  },
  {
   "cell_type": "code",
   "execution_count": null,
   "metadata": {},
   "outputs": [],
   "source": []
  }
 ],
 "metadata": {
  "interpreter": {
   "hash": "70c485f5dd2a3fa7b2691a7c2f24a679b8383fa6708e6dbf719b8ad856723649"
  },
  "kernelspec": {
   "display_name": "Python 3.10.2 64-bit ('mdtraj': conda)",
   "language": "python",
   "name": "python3"
  },
  "language_info": {
   "codemirror_mode": {
    "name": "ipython",
    "version": 3
   },
   "file_extension": ".py",
   "mimetype": "text/x-python",
   "name": "python",
   "nbconvert_exporter": "python",
   "pygments_lexer": "ipython3",
   "version": "3.10.2"
  },
  "orig_nbformat": 4
 },
 "nbformat": 4,
 "nbformat_minor": 2
}
