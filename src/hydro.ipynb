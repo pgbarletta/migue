{
 "cells": [
  {
   "cell_type": "code",
   "execution_count": 1,
   "metadata": {},
   "outputs": [
    {
     "name": "stderr",
     "output_type": "stream",
     "text": [
      "/home/pbarletta/anaconda3/envs/mdtraj/lib/python3.10/site-packages/tqdm/auto.py:22: TqdmWarning: IProgress not found. Please update jupyter and ipywidgets. See https://ipywidgets.readthedocs.io/en/stable/user_install.html\n",
      "  from .autonotebook import tqdm as notebook_tqdm\n"
     ]
    }
   ],
   "source": [
    "import sys\n",
    "from pathlib import Path\n",
    "import pickle\n",
    "import pandas as pd\n",
    "import mdtraj as md\n",
    "import networkx as nx\n",
    "import logging\n",
    "from collections import namedtuple\n",
    "from concurrent.futures import ProcessPoolExecutor\n",
    "import concurrent.futures as cf\n",
    "import glob\n",
    "import csv\n",
    "from collections import defaultdict\n",
    "import pandas as pd\n",
    "import subprocess as sp\n",
    "import shutil as sh\n",
    "import MDAnalysis as mda\n",
    "from itertools import combinations_with_replacement\n",
    "from MDAnalysis.core.groups import AtomGroup\n",
    "from MDAnalysis.analysis import distances\n",
    "\n",
    "from Bio.PDB import PDBParser\n",
    "from Bio.PDB.PDBIO import PDBIO\n",
    "from Bio.SeqUtils import seq1, seq3\n",
    "sys.path.insert(0, \"/home/pbarletta/freesasa-python/build/lib.linux-x86_64-3.10\")\n",
    "import freesasa\n",
    "\n",
    "Chains = namedtuple('Chains', ['antibody', 'antigen'])\n",
    "InterfaceAtoms = namedtuple('InterfaceAtoms', ['antibody', 'antigen'])\n",
    "Atom = namedtuple('Atom', ['index', 'serial', 'element', 'is_sidechain', 'resSeq',\n",
    "                  'resSeq_str', 'resname', 'chain_ID', 'chain_type', 'CDR'])\n",
    "\n",
    "from abag_interactions_hydrophobic import *\n",
    "from interactions_hydrophobic import *\n",
    "           \n",
    "data_dir = Path(\"/home/pbarletta/labo/22/migue/data\")\n",
    "expdata_dir = Path(\"/home/pbarletta/labo/22/migue/data/AB-Bind-Database-master\")\n",
    "hydro_dir = Path(\"/home/pbarletta/labo/22/migue/rtdos/hydro\")\n",
    "aux_dir = Path(\"/home/pbarletta/labo/22/migue/aux\")\n",
    "pdbs_dir = Path(\"/home/pbarletta/labo/22/migue/run/pdbs\")\n",
    "mutpdbs_dir = Path(\"/home/pbarletta/labo/22/migue/run/mut_pdbs\")\n",
    "bin_dir = Path(\"/home/pbarletta/labo/22/locuaz/bin\")\n",
    "evo_bin = Path(bin_dir, \"evoef2/EvoEF2\")\n",
    "\n",
    "AA_LIST = [\"ALA\", \"ARG\", \"ASN\", \"ASP\", \"CYS\", \"GLU\", \"GLN\", \"GLY\", \"HIS\",\n",
    "           \"ILE\", \"LEU\", \"LYS\", \"MET\", \"PHE\", \"PRO\", \"SER\", \"THR\", \"TRP\", \"TYR\", \"VAL\"]\n",
    "AA_LIST = (\"D\", \"E\", \"S\", \"T\", \"R\", \"N\", \"Q\", \"H\", \"K\", \"A\", \"G\", \"I\", \n",
    "    \"M\", \"L\", \"V\", \"P\", \"F\", \"W\", \"Y\", \"C\" )"
   ]
  },
  {
   "cell_type": "code",
   "execution_count": 2,
   "metadata": {},
   "outputs": [],
   "source": [
    "expdata_df = pd.read_csv(Path(expdata_dir, \"AB-Bind_experimental_data.csv\"), encoding='latin-1')\n",
    "pdb_list = tuple(sorted(set(expdata_df['#PDB'])))\n",
    "\n",
    "abag_chains = {}\n",
    "for partners, pdb_id in zip(expdata_df[\"Partners(A_B)\"], expdata_df[\"#PDB\"]):\n",
    "    target, binder = partners.split(\"_\")\n",
    "    abag_chains[pdb_id] = Chains(antibody=binder, antigen=target) \n",
    "\n",
    "mut_list = []\n",
    "with open(Path(mutpdbs_dir, \"mut_list.txt\"), \"r\") as f:\n",
    "    for mute in f:\n",
    "        mut_list.append(mute.strip())\n",
    "\n",
    "pdbs_mut = defaultdict(list)\n",
    "for mut in mut_list:\n",
    "    this_pdb = mut.split('-')[0]\n",
    "    pdbs_mut[this_pdb ].append(mut)"
   ]
  },
  {
   "cell_type": "markdown",
   "metadata": {},
   "source": [
    "## hydrophobic"
   ]
  },
  {
   "cell_type": "code",
   "execution_count": 12,
   "metadata": {},
   "outputs": [],
   "source": [
    "pdb_id = pdb_list[25]\n",
    "\n",
    "ag_chains = abag_chains[pdb_id].antigen\n",
    "ab_chains = abag_chains[pdb_id].antibody"
   ]
  },
  {
   "cell_type": "code",
   "execution_count": 14,
   "metadata": {},
   "outputs": [],
   "source": [
    "pdb_filename = Path(pdbs_dir, pdb_id + \".pdb\")\n",
    "\n",
    "G = construct_graph(pdb_filename, ag_chains, ab_chains, CUTOFF_CARBONS)\n",
    "pre_clusteres = get_putative_clusters(G)\n",
    "clusters = merge_clusters(pre_clusteres, CUTOFF_CLUSTERS)\n",
    "my_clusters = MDAtom_to_TAtom(pdb_filename, clusters)\n",
    "draw_clusters(pdb_filename, ag_chains=ag_chains, clusters=my_clusters,\n",
    "    filename=Path(aux_dir, \"cclusters.py\"))"
   ]
  },
  {
   "cell_type": "code",
   "execution_count": 18,
   "metadata": {},
   "outputs": [
    {
     "data": {
      "text/plain": [
       "'3NPS-A:R48A'"
      ]
     },
     "execution_count": 18,
     "metadata": {},
     "output_type": "execute_result"
    }
   ],
   "source": [
    "pdbs_mut[pdb_id][19]"
   ]
  },
  {
   "cell_type": "code",
   "execution_count": 17,
   "metadata": {},
   "outputs": [],
   "source": [
    "mut_id = pdbs_mut[pdb_id][19]\n",
    "pdb_filename = Path(mutpdbs_dir, mut_id + \".pdb\")\n",
    "\n",
    "G = construct_graph(pdb_filename, ag_chains, ab_chains, CUTOFF_CARBONS)\n",
    "pre_clusteres = get_putative_clusters(G)\n",
    "clusters = merge_clusters(pre_clusteres, CUTOFF_CLUSTERS)\n",
    "my_clusters = MDAtom_to_TAtom(pdb_filename, clusters)\n",
    "draw_clusters(pdb_filename, ag_chains=ag_chains, clusters=my_clusters,\n",
    "    filename=Path(aux_dir, \"1_clusters.py\"))"
   ]
  },
  {
   "cell_type": "code",
   "execution_count": 11,
   "metadata": {},
   "outputs": [],
   "source": [
    "with open(Path.joinpath(hydro_dir, \"mut_hydrophobic.pkl\"), \"rb\") as file:\n",
    "        mut_hydrophobic_clusters = pickle.load(file)"
   ]
  },
  {
   "cell_type": "markdown",
   "metadata": {},
   "source": [
    "-----"
   ]
  },
  {
   "cell_type": "code",
   "execution_count": null,
   "metadata": {},
   "outputs": [],
   "source": []
  }
 ],
 "metadata": {
  "kernelspec": {
   "display_name": "Python 3.10.2",
   "language": "python",
   "name": "python3"
  },
  "language_info": {
   "codemirror_mode": {
    "name": "ipython",
    "version": 3
   },
   "file_extension": ".py",
   "mimetype": "text/x-python",
   "name": "python",
   "nbconvert_exporter": "python",
   "pygments_lexer": "ipython3",
   "version": "3.10.2"
  },
  "orig_nbformat": 4,
  "vscode": {
   "interpreter": {
    "hash": "70c485f5dd2a3fa7b2691a7c2f24a679b8383fa6708e6dbf719b8ad856723649"
   }
  }
 },
 "nbformat": 4,
 "nbformat_minor": 2
}
